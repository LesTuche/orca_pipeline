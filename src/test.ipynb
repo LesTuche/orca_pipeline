{
 "cells": [
  {
   "cell_type": "code",
   "execution_count": 4,
   "metadata": {},
   "outputs": [],
   "source": [
    "from chemistry import Molecule\n"
   ]
  },
  {
   "cell_type": "code",
   "execution_count": 5,
   "metadata": {},
   "outputs": [
    {
     "data": {
      "text/plain": [
       "Molecule(name=mol,atoms=['H', 'H'], coordinates=[[0.  0.  0. ]\n",
       " [0.  0.  0.7]], Multiplicity=1, Charge=0)"
      ]
     },
     "execution_count": 5,
     "metadata": {},
     "output_type": "execute_result"
    }
   ],
   "source": [
    "mol = Molecule.from_xyz(\"h2.xyz\",charge=0,mult=1)\n",
    "\n",
    "mol"
   ]
  },
  {
   "cell_type": "code",
   "execution_count": 9,
   "metadata": {},
   "outputs": [
    {
     "name": "stdout",
     "output_type": "stream",
     "text": [
      "H 0.0 0.0 0.0\n",
      "H 0.0 0.0 0.7\n"
     ]
    }
   ],
   "source": [
    "coords = mol.coords\n",
    "\n",
    "atoms=mol.atoms\n",
    "atoms\n",
    "for atom, coord in zip(atoms, coords):\n",
    "    print(atom, coord[0], coord[1], coord[2])"
   ]
  },
  {
   "cell_type": "code",
   "execution_count": null,
   "metadata": {},
   "outputs": [],
   "source": [
    "len(coords)"
   ]
  }
 ],
 "metadata": {
  "kernelspec": {
   "display_name": "aroma",
   "language": "python",
   "name": "python3"
  },
  "language_info": {
   "codemirror_mode": {
    "name": "ipython",
    "version": 3
   },
   "file_extension": ".py",
   "mimetype": "text/x-python",
   "name": "python",
   "nbconvert_exporter": "python",
   "pygments_lexer": "ipython3",
   "version": "3.11.11"
  }
 },
 "nbformat": 4,
 "nbformat_minor": 2
}
